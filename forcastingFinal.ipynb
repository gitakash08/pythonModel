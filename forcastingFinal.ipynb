{
 "cells": [
  {
   "cell_type": "code",
   "execution_count": 1,
   "id": "3916daba-f5dd-471c-88e4-9b987aa847d8",
   "metadata": {},
   "outputs": [
    {
     "name": "stderr",
     "output_type": "stream",
     "text": [
      "C:\\Users\\MLINF\\AppData\\Local\\Temp\\ipykernel_672\\1605225240.py:20: UserWarning: pandas only supports SQLAlchemy connectable (engine/connection) or database string URI or sqlite3 DBAPI2 connection. Other DBAPI2 objects are not tested. Please consider using SQLAlchemy.\n",
      "  df = pd.read_sql(query, conn)\n"
     ]
    }
   ],
   "source": [
    "import pyodbc\n",
    "import pandas as pd\n",
    "\n",
    "# Connection details\n",
    "conn_str = (\n",
    "    r'DRIVER={SQL Server};'\n",
    "    r'SERVER=mlinfomap.net;'\n",
    "    r'DATABASE=AI_ML_VTS;'\n",
    "    r'UID=sa;'\n",
    "    r'PWD=Intel@1968;'\n",
    ")\n",
    "\n",
    "# Establish connection\n",
    "conn = pyodbc.connect(conn_str)\n",
    "\n",
    "# Execute the stored procedure\n",
    "query = \"\"\"\n",
    "EXEC GetTransporterViolationsUsingInvoice_Fast;\n",
    "\"\"\"\n",
    "df = pd.read_sql(query, conn)\n",
    "\n",
    "# Close connection\n",
    "conn.close()\n",
    "\n",
    "# Calculate additional features\n",
    "df['ViolationDensity'] = df['Total_Violations'] / df['Truck_Count']\n",
    "df['ViolationRatePerInvoice'] = df['Total_Violations'] / df['Invoice_Count']\n",
    "\n",
    "# Define target variable\n",
    "df['Top10Transporter'] = df['Total_Violations'] >= df['Total_Violations'].nlargest(10).min()\n"
   ]
  },
  {
   "cell_type": "code",
   "execution_count": 2,
   "id": "50b838a4-73b6-4fa9-a38c-28bb6b93724f",
   "metadata": {},
   "outputs": [
    {
     "name": "stdout",
     "output_type": "stream",
     "text": [
      "Mean Squared Error: 3936.620433333333\n"
     ]
    }
   ],
   "source": [
    "from sklearn.model_selection import train_test_split\n",
    "from sklearn.ensemble import RandomForestRegressor\n",
    "from sklearn.metrics import mean_squared_error\n",
    "\n",
    "# Features and target\n",
    "X = df[['Truck_Count', 'Invoice_Count', 'Route_Violation_Count', \n",
    "        'Speed_Violation_Count', 'Stoppage_Violation_Count', \n",
    "        'Night_Violation_Count']]\n",
    "y = df['Total_Violations']  # Predict total violations\n",
    "\n",
    "# Split data\n",
    "X_train, X_test, y_train, y_test = train_test_split(X, y, test_size=0.3, random_state=42)\n",
    "\n",
    "# Train model\n",
    "model = RandomForestRegressor(n_estimators=100, random_state=42)\n",
    "model.fit(X_train, y_train)\n",
    "\n",
    "# Predict and evaluate\n",
    "y_pred = model.predict(X_test)\n",
    "mse = mean_squared_error(y_test, y_pred)\n",
    "print(f'Mean Squared Error: {mse}')\n"
   ]
  },
  {
   "cell_type": "code",
   "execution_count": 3,
   "id": "4ae49af2-4c66-4ad3-ab0a-012a5cf49d78",
   "metadata": {},
   "outputs": [
    {
     "name": "stdout",
     "output_type": "stream",
     "text": [
      "  TransporterName  Predicted_Violations\n",
      "0   Transporter 1                193.08\n",
      "1   Transporter 2                193.08\n",
      "2   Transporter 3                193.08\n",
      "3   Transporter 4                193.08\n",
      "4   Transporter 5                193.08\n",
      "5   Transporter 6                193.08\n",
      "6   Transporter 7                193.08\n",
      "7   Transporter 8                193.08\n",
      "8   Transporter 9                193.08\n",
      "9  Transporter 10                193.08\n"
     ]
    }
   ],
   "source": [
    "def forecast_for_future(month, year, historical_data, model):\n",
    "    # Generate future data\n",
    "    future_data = pd.DataFrame({\n",
    "        'Truck_Count': [100] * 10,  # Placeholder values\n",
    "        'Invoice_Count': [2000] * 10,\n",
    "        'Route_Violation_Count': [50] * 10,\n",
    "        'Speed_Violation_Count': [10] * 10,\n",
    "        'Stoppage_Violation_Count': [30] * 10,\n",
    "        'Night_Violation_Count': [20] * 10\n",
    "    })\n",
    "    \n",
    "    # Make predictions\n",
    "    future_data['Predicted_Violations'] = model.predict(future_data)\n",
    "    \n",
    "    # Add transporter names for demonstration\n",
    "    future_data['TransporterName'] = [f'Transporter {i}' for i in range(1, 11)]\n",
    "    \n",
    "    # Rank by predicted violations\n",
    "    top_10 = future_data.nlargest(10, 'Predicted_Violations')\n",
    "    \n",
    "    return top_10[['TransporterName', 'Predicted_Violations']]\n",
    "\n",
    "# Example usage\n",
    "future_month = 8  # August\n",
    "future_year = 2024\n",
    "top_10_transporters = forecast_for_future(future_month, future_year, df, model)\n",
    "\n",
    "print(top_10_transporters)\n"
   ]
  },
  {
   "cell_type": "code",
   "execution_count": null,
   "id": "2df04592-c0da-462b-b92c-8dc87d280206",
   "metadata": {},
   "outputs": [],
   "source": []
  }
 ],
 "metadata": {
  "kernelspec": {
   "display_name": "Python 3 (ipykernel)",
   "language": "python",
   "name": "python3"
  },
  "language_info": {
   "codemirror_mode": {
    "name": "ipython",
    "version": 3
   },
   "file_extension": ".py",
   "mimetype": "text/x-python",
   "name": "python",
   "nbconvert_exporter": "python",
   "pygments_lexer": "ipython3",
   "version": "3.11.9"
  }
 },
 "nbformat": 4,
 "nbformat_minor": 5
}
