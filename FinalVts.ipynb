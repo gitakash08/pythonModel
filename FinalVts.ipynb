{
 "cells": [
  {
   "cell_type": "code",
   "execution_count": 1,
   "id": "f50c6757-d463-4516-83e7-f19f8a6855e8",
   "metadata": {},
   "outputs": [],
   "source": [
    "import pandas as pd\n",
    "\n",
    "# Paths to your Excel files\n",
    "file_paths = {\n",
    "    \"tts_details\": \"D:/Akash_Tripathi/Data/TTsDetails.xlsx\",\n",
    "    \"night_violation\": \"D:/Akash_Tripathi/Data/NightViolation.xlsx\",\n",
    "    \"speed_violation\": \"D:/Akash_Tripathi/Data/SpeedViolation.xlsx\",\n",
    "    \"route_violation\": \"D:/Akash_Tripathi/Data/RouteViolation.xlsx\",\n",
    "    \"stoppage_violation\": \"D:/Akash_Tripathi/Data/StoppageViolation.xlsx\",\n",
    "    \"vehicle_invoices\": \"D:/Akash_Tripathi/Data/INVOICE_TRIP_MASTER.xlsx\"\n",
    "}\n",
    "\n",
    "# Load data into DataFrames\n",
    "tts_details = pd.read_excel(file_paths[\"tts_details\"])\n",
    "night_violation = pd.read_excel(file_paths[\"night_violation\"])\n",
    "speed_violation = pd.read_excel(file_paths[\"speed_violation\"])\n",
    "route_violation = pd.read_excel(file_paths[\"route_violation\"])\n",
    "stoppage_violation = pd.read_excel(file_paths[\"stoppage_violation\"])\n",
    "vehicle_invoices = pd.read_excel(file_paths[\"vehicle_invoices\"])"
   ]
  },
  {
   "cell_type": "code",
   "execution_count": 4,
   "id": "2d371fee-b741-47ea-a08b-10fbd1dbd540",
   "metadata": {},
   "outputs": [],
   "source": [
    "# Aggregating Route Violations\n",
    "route_violations = route_violation.merge(vehicle_invoices, left_on='IdInvTripMstr', right_on='IdInvTripMstr')\n",
    "route_violations = route_violations.merge(tts_details, left_on='VehicleNo', right_on='AssignVehNo')\n",
    "route_violations_count = route_violations.groupby(['VehicleNo', 'TransportersName']).size().reset_index(name='Route_Violation_Count')\n",
    "\n",
    "# Aggregating Speed Violations\n",
    "speed_violations = speed_violation.merge(vehicle_invoices, on='IdInvTripMstr', how='left')\n",
    "speed_violations = speed_violations.merge(tts_details, left_on='VehicleNo', right_on='AssignVehNo', how='left')\n",
    "speed_violations_count = speed_violations.groupby('TransportersName')['IdInvTripMstr'].count().reset_index(name='Speed_Violation_Count')\n",
    "\n",
    "# Aggregating Stoppage Violations (New Logic)\n",
    "stoppage_violation_count = stoppage_violation.groupby('TransportersName')['IdInvTripMstr'].count().reset_index(name='Stoppage_Violation_Count')\n",
    "\n",
    "# Aggregating Night Violations\n",
    "night_violations = night_violation.merge(vehicle_invoices, on='IdInvTripMstr', how='left')\n",
    "night_violations = night_violations.merge(tts_details, left_on='VehicleNo', right_on='AssignVehNo', how='left')\n",
    "night_violations_count = night_violations.groupby('TransportersName')['IdInvTripMstr'].count().reset_index(name='Night_Violation_Count')\n",
    "\n",
    "invoice_count = vehicle_invoices.merge(tts_details, left_on='VehicleNo', right_on='AssignVehNo')\n",
    "invoice_count = invoice_count.groupby(['VehicleNo', 'TransportersName']).size().reset_index(name='Invoice_Count')\n",
    "\n",
    "# Aggregating Truck Counts\n",
    "truck_count = tts_details.groupby('TransportersName')['AssignVehNo'].nunique().reset_index(name='Truck_Count')\n"
   ]
  },
  {
   "cell_type": "code",
   "execution_count": 5,
   "id": "982b39eb-de49-4974-aa5e-4df6e6d3ece9",
   "metadata": {},
   "outputs": [],
   "source": [
    "# Combine all the aggregated data\n",
    "aggregated_violations = truck_count.merge(invoice_count[['TransportersName', 'Invoice_Count']], on='TransportersName', how='left')\n",
    "aggregated_violations = aggregated_violations.merge(route_violations_count, on='TransportersName', how='left')\n",
    "aggregated_violations = aggregated_violations.merge(speed_violations_count, on='TransportersName', how='left')\n",
    "aggregated_violations = aggregated_violations.merge(stoppage_violation_count, on='TransportersName', how='left')\n",
    "aggregated_violations = aggregated_violations.merge(night_violations_count, on='TransportersName', how='left')"
   ]
  },
  {
   "cell_type": "code",
   "execution_count": 6,
   "id": "5b47b1a5-494a-4e27-ba33-b89311ea093b",
   "metadata": {},
   "outputs": [],
   "source": [
    "aggregated_violations.fillna(0, inplace=True)"
   ]
  },
  {
   "cell_type": "code",
   "execution_count": 7,
   "id": "0ba5e395-50ff-4f87-a8fd-0fec4f3c4f68",
   "metadata": {},
   "outputs": [],
   "source": [
    "# Summing up the violation counts\n",
    "aggregated_violations = aggregated_violations.groupby('TransportersName').agg({\n",
    "    'Truck_Count': 'sum',\n",
    "    'Invoice_Count': 'sum',\n",
    "    'Route_Violation_Count': 'sum',\n",
    "    'Speed_Violation_Count': 'sum',\n",
    "    'Stoppage_Violation_Count': 'sum',\n",
    "    'Night_Violation_Count': 'sum'\n",
    "}).reset_index()"
   ]
  },
  {
   "cell_type": "code",
   "execution_count": 8,
   "id": "e99f856e-7c1c-4871-b45d-d76655d03ba2",
   "metadata": {},
   "outputs": [],
   "source": [
    "# Calculate total and average violations per truck\n",
    "aggregated_violations['Total_Violations'] = (aggregated_violations['Route_Violation_Count'] +\n",
    "                                             aggregated_violations['Speed_Violation_Count'] +\n",
    "                                             aggregated_violations['Stoppage_Violation_Count'] +\n",
    "                                             aggregated_violations['Night_Violation_Count'])\n",
    "\n",
    "aggregated_violations['AverageViolationsPerTruck'] = aggregated_violations['Total_Violations'] / aggregated_violations['Truck_Count']"
   ]
  },
  {
   "cell_type": "code",
   "execution_count": 9,
   "id": "2bf65293-3c96-42c0-a1c7-810174e748f1",
   "metadata": {},
   "outputs": [],
   "source": [
    "# Filter out transporters with zero average violations per truck\n",
    "aggregated_violations = aggregated_violations[aggregated_violations['AverageViolationsPerTruck'] > 0]"
   ]
  },
  {
   "cell_type": "code",
   "execution_count": 15,
   "id": "c5db3ce4-8d31-4582-a89d-73c59996cab0",
   "metadata": {},
   "outputs": [],
   "source": [
    "# Identify Top 10 Transporters\n",
    "top_transporters = aggregated_violations.sort_values(by='AverageViolationsPerTruck').head(10)"
   ]
  },
  {
   "cell_type": "code",
   "execution_count": 16,
   "id": "ed8f2d8c-7896-4952-ab7d-86522afe93b1",
   "metadata": {},
   "outputs": [
    {
     "name": "stdout",
     "output_type": "stream",
     "text": [
      "                   TransportersName  AverageViolationsPerTruck\n",
      "323                    UPHAR INDANE                   2.000000\n",
      "297      SRI PERIYANDAVAR TRANSPORT                   2.000000\n",
      "75        DOMESTIC GAS & APPLIANCES                   5.666667\n",
      "36             AWADHESH KUMAR SINGH                   5.814815\n",
      "32                   ARYA TRANSPORT                   6.000000\n",
      "4                ADITYA ENTERPRISES                   7.928571\n",
      "216  RAMAWATAR INDANE GRAMIN VITRAK                  10.000000\n",
      "17                       ANIL KUMAR                  10.750000\n",
      "224           RAVI TRANSPORT AGENCY                  12.866667\n",
      "291            SOUMITRA ENTERPRISES                  13.666667\n"
     ]
    }
   ],
   "source": [
    "# Print results\n",
    "print(top_transporters[['TransportersName', 'AverageViolationsPerTruck']])"
   ]
  },
  {
   "cell_type": "code",
   "execution_count": 24,
   "id": "6e4a00e3-edec-4d62-b5d2-4170e95c03b4",
   "metadata": {},
   "outputs": [
    {
     "name": "stdout",
     "output_type": "stream",
     "text": [
      "Accuracy: 0.99\n",
      "Classification Report:\n",
      "              precision    recall  f1-score   support\n",
      "\n",
      "           0       0.99      1.00      0.99        66\n",
      "           1       0.00      0.00      0.00         1\n",
      "\n",
      "    accuracy                           0.99        67\n",
      "   macro avg       0.49      0.50      0.50        67\n",
      "weighted avg       0.97      0.99      0.98        67\n",
      "\n",
      "Confusion Matrix:\n",
      "[[66  0]\n",
      " [ 1  0]]\n",
      "Prediction: [1]\n"
     ]
    },
    {
     "name": "stderr",
     "output_type": "stream",
     "text": [
      "C:\\Users\\MLINF\\AppData\\Local\\Programs\\Python\\Python311\\Lib\\site-packages\\sklearn\\metrics\\_classification.py:1531: UndefinedMetricWarning: Precision is ill-defined and being set to 0.0 in labels with no predicted samples. Use `zero_division` parameter to control this behavior.\n",
      "  _warn_prf(average, modifier, f\"{metric.capitalize()} is\", len(result))\n",
      "C:\\Users\\MLINF\\AppData\\Local\\Programs\\Python\\Python311\\Lib\\site-packages\\sklearn\\metrics\\_classification.py:1531: UndefinedMetricWarning: Precision is ill-defined and being set to 0.0 in labels with no predicted samples. Use `zero_division` parameter to control this behavior.\n",
      "  _warn_prf(average, modifier, f\"{metric.capitalize()} is\", len(result))\n",
      "C:\\Users\\MLINF\\AppData\\Local\\Programs\\Python\\Python311\\Lib\\site-packages\\sklearn\\metrics\\_classification.py:1531: UndefinedMetricWarning: Precision is ill-defined and being set to 0.0 in labels with no predicted samples. Use `zero_division` parameter to control this behavior.\n",
      "  _warn_prf(average, modifier, f\"{metric.capitalize()} is\", len(result))\n"
     ]
    }
   ],
   "source": [
    "import pandas as pd\n",
    "import numpy as np\n",
    "from sklearn.model_selection import train_test_split\n",
    "from sklearn.ensemble import RandomForestClassifier\n",
    "from sklearn.metrics import accuracy_score, classification_report, confusion_matrix\n",
    "\n",
    "# Assuming 'aggregated_violations' DataFrame is already created and cleaned\n",
    "\n",
    "# Create labels for top 10 transporters\n",
    "aggregated_violations['Top_10'] = aggregated_violations['AverageViolationsPerTruck'].rank(method='first', ascending=True) <= 10\n",
    "\n",
    "# Prepare features and labels\n",
    "features = aggregated_violations[['Truck_Count', 'Invoice_Count', 'Route_Violation_Count', 'Speed_Violation_Count', 'Stoppage_Violation_Count', 'Night_Violation_Count']]\n",
    "labels = aggregated_violations['Top_10'].astype(int)  # Convert boolean to int (1 for top 10, 0 for others)\n",
    "\n",
    "# Split the data into training and testing sets\n",
    "X_train, X_test, y_train, y_test = train_test_split(features, labels, test_size=0.3, random_state=42)\n",
    "\n",
    "# Initialize and train the model\n",
    "model = RandomForestClassifier(random_state=42)\n",
    "model.fit(X_train, y_train)\n",
    "\n",
    "# Make predictions\n",
    "y_pred = model.predict(X_test)\n",
    "\n",
    "# Evaluate the model\n",
    "accuracy = accuracy_score(y_test, y_pred)\n",
    "report = classification_report(y_test, y_pred)\n",
    "conf_matrix = confusion_matrix(y_test, y_pred)\n",
    "\n",
    "print(f'Accuracy: {accuracy:.2f}')\n",
    "print('Classification Report:')\n",
    "print(report)\n",
    "print('Confusion Matrix:')\n",
    "print(conf_matrix)\n",
    "\n",
    "# To make predictions on new data\n",
    "new_data = pd.DataFrame({\n",
    "    'Truck_Count': [10],\n",
    "    'Invoice_Count': [100],\n",
    "    'Route_Violation_Count': [2],\n",
    "    'Speed_Violation_Count': [2],\n",
    "    'Stoppage_Violation_Count': [3],\n",
    "    'Night_Violation_Count': [5]\n",
    "})\n",
    "prediction = model.predict(new_data)\n",
    "print('Prediction:', prediction)"
   ]
  },
  {
   "cell_type": "code",
   "execution_count": null,
   "id": "6e75fee4-4dd3-4504-8302-fb0d98c72c41",
   "metadata": {},
   "outputs": [],
   "source": []
  }
 ],
 "metadata": {
  "kernelspec": {
   "display_name": "Python 3 (ipykernel)",
   "language": "python",
   "name": "python3"
  },
  "language_info": {
   "codemirror_mode": {
    "name": "ipython",
    "version": 3
   },
   "file_extension": ".py",
   "mimetype": "text/x-python",
   "name": "python",
   "nbconvert_exporter": "python",
   "pygments_lexer": "ipython3",
   "version": "3.11.9"
  }
 },
 "nbformat": 4,
 "nbformat_minor": 5
}
